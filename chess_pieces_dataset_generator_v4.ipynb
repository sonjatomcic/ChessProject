{
 "cells": [
  {
   "cell_type": "code",
   "execution_count": 9,
   "id": "9e1a0ba1",
   "metadata": {},
   "outputs": [],
   "source": [
    "import numpy as np\n",
    "import os\n",
    "import glob\n",
    "import shutil\n",
    "import cv2\n",
    "from matplotlib import pyplot as plt\n",
    "%matplotlib inline\n",
    "from ipynb.fs.full.chess_functions import *"
   ]
  },
  {
   "cell_type": "code",
   "execution_count": 10,
   "id": "99c8df98",
   "metadata": {},
   "outputs": [],
   "source": [
    "folders_dict = {\n",
    "    \"r\": \"blackRook\",\n",
    "    \"R\": \"whiteRook\",\n",
    "    \"b\": \"blackBishop\",\n",
    "    \"B\": \"whiteBishop\",\n",
    "    \"n\": \"blackKnight\",\n",
    "    \"N\": \"whiteKnight\",\n",
    "    \"k\": \"blackKing\",\n",
    "    \"K\": \"whiteKing\",\n",
    "    \"q\": \"blackQueen\",\n",
    "    \"Q\": \"whiteQueen\",\n",
    "    \"p\": \"blackPawn\",\n",
    "    \"P\": \"whitePawn\",\n",
    "    \"-\": \"emptyCell\"\n",
    "}\n",
    "\n",
    "current_directory = os.getcwd()\n",
    "chess_pieces_dataset_folder_path = os.path.join(current_directory, \"ChessPiecesDatasetV4\")"
   ]
  },
  {
   "cell_type": "code",
   "execution_count": 11,
   "id": "6d19c747",
   "metadata": {},
   "outputs": [],
   "source": [
    "def create_dataset_folders():\n",
    "    current_directory = os.getcwd()\n",
    "    directory = \"ChessPiecesDatasetV4\"\n",
    "    \n",
    "    path = os.path.join(current_directory, directory)\n",
    "    train_path = os.path.join(current_directory, f\"{directory}\\\\train\")\n",
    "    test_path = os.path.join(current_directory, f\"{directory}\\\\test\")\n",
    "    validation_path = os.path.join(current_directory, f\"{directory}\\\\validation\")\n",
    "    \n",
    "    if os.path.exists(directory):\n",
    "        print('Deleting directory...')\n",
    "        shutil.rmtree(path)\n",
    "\n",
    "    print('Making directory...')\n",
    "    os.mkdir(path)\n",
    "    \n",
    "    # create train and test subfolders\n",
    "    subfolder_names = ['blackRook', 'whiteRook', 'blackBishop', 'whiteBishop', 'blackKnight', 'whiteKnight', 'blackKing', 'whiteKing', 'blackQueen', 'whiteQueen', 'blackPawn', 'whitePawn', 'emptyCell' ]\n",
    "    \n",
    "    for subfolder_name in subfolder_names:\n",
    "        os.makedirs(os.path.join(train_path, subfolder_name))\n",
    "        os.makedirs(os.path.join(test_path, subfolder_name))\n",
    "        os.makedirs(os.path.join(validation_path, subfolder_name))"
   ]
  },
  {
   "cell_type": "code",
   "execution_count": 12,
   "id": "3f410b46",
   "metadata": {},
   "outputs": [],
   "source": [
    "def add_cell_image_to_folder(cell_image, piece, image_name, main_folder_name):\n",
    "    current_directory = os.getcwd()\n",
    "    path = os.path.join(chess_pieces_dataset_folder_path, f\"{main_folder_name}\\\\{folders_dict[piece]}\\\\{image_name}\")\n",
    "    image = cv2.cvtColor(cell_image, cv2.COLOR_BGR2RGB)\n",
    "    \n",
    "    cv2.imwrite(path, image)"
   ]
  },
  {
   "cell_type": "code",
   "execution_count": 13,
   "id": "5bed9996",
   "metadata": {},
   "outputs": [],
   "source": [
    "def extract_cells_from_image(img_path, fen_parser, main_folder_name):\n",
    "    bgr_img = cv2.imread(img_path)\n",
    "    image = cv2.cvtColor(bgr_img, cv2.COLOR_BGR2RGB)\n",
    "    #plt.imshow(image)\n",
    "    #plt.show()\n",
    "    \n",
    "    board_matrix = []\n",
    "    \n",
    "    # fen matrix\n",
    "    image_fen = img_path.split(\"\\\\\")[1].split(\".\")[0]\n",
    "    image_fen_matrix = fen_parser.fenToMatrix(image_fen)  \n",
    "    \n",
    "    # width and height of one cell (chess board is 8x8)\n",
    "    stepX = image.shape[1] // 8\n",
    "    stepY = image.shape[0] // 8\n",
    "    \n",
    "    for y in range(0,8):\n",
    "        \n",
    "        row = []\n",
    "        for x in range(0,8):\n",
    "            startX = x*stepX\n",
    "            startY = y*stepY\n",
    "            endX = (x+1)*stepX\n",
    "            endY = (y+1)*stepY\n",
    "            \n",
    "            row.append((startX, startY, endX, endY))\n",
    "            \n",
    "            cell = image[startY: endY, startX: endX]\n",
    "            cell_image_name = f\"{image_fen}--({y},{x}).jpeg\"\n",
    "            add_cell_image_to_folder(cell, image_fen_matrix[y][x], cell_image_name, main_folder_name)\n",
    "    \n",
    "    "
   ]
  },
  {
   "cell_type": "code",
   "execution_count": 14,
   "id": "66944be4",
   "metadata": {},
   "outputs": [],
   "source": [
    "def generate_dataset():\n",
    "\n",
    "    '''\n",
    "        use 100000 small images\n",
    "        100000 / 64 = 1562.5\n",
    "        10% = 156.25 test\n",
    "        10% = 156.25 validation\n",
    "        80% = 1250 train\n",
    "    '''\n",
    "    \n",
    "    train_size = 1250\n",
    "    test_size = 156\n",
    "    validation_size = 156\n",
    "    valid_start_index = 156\n",
    "    valid_end_index = 156+156\n",
    "    \n",
    "    fen_parser = FenParser(\"-\")\n",
    "\n",
    "    # return all file paths that match a specific pattern\n",
    "    train = glob.glob(\"./Kaggle/dataset/train/*.jpeg\")\n",
    "    test = glob.glob(\"./Kaggle/dataset/test/*.jpeg\")\n",
    "    validation = glob.glob(\"./Kaggle/dataset/test/*.jpeg\")\n",
    "    \n",
    "    train = train[:train_size]\n",
    "    test = test[:test_size]\n",
    "    validation = validation[valid_start_index:valid_end_index]\n",
    "    \n",
    "    for img_path in train:\n",
    "        extract_cells_from_image(img_path, fen_parser, \"train\")\n",
    "    \n",
    "    for img_path in test:\n",
    "        extract_cells_from_image(img_path, fen_parser, \"test\")\n",
    "    \n",
    "    for img_path in validation:\n",
    "        extract_cells_from_image(img_path, fen_parser, \"validation\")"
   ]
  },
  {
   "cell_type": "code",
   "execution_count": 15,
   "id": "6bb5270c",
   "metadata": {},
   "outputs": [
    {
     "name": "stdout",
     "output_type": "stream",
     "text": [
      "Making directory...\n"
     ]
    }
   ],
   "source": [
    "create_dataset_folders()\n",
    "generate_dataset()"
   ]
  }
 ],
 "metadata": {
  "kernelspec": {
   "display_name": "Python 3",
   "language": "python",
   "name": "python3"
  },
  "language_info": {
   "codemirror_mode": {
    "name": "ipython",
    "version": 3
   },
   "file_extension": ".py",
   "mimetype": "text/x-python",
   "name": "python",
   "nbconvert_exporter": "python",
   "pygments_lexer": "ipython3",
   "version": "3.8.8"
  }
 },
 "nbformat": 4,
 "nbformat_minor": 5
}
